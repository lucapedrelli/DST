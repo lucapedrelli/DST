{
 "cells": [
  {
   "cell_type": "code",
   "execution_count": 1,
   "metadata": {
    "collapsed": true
   },
   "outputs": [],
   "source": [
    "'''\n",
    "\n",
    "Author: Luca Pedrelli\n",
    "l.pedrelli@deeplearningitalia.com\n",
    "lucapedrelli@gmail.com\n",
    "\n",
    "Exercice: ESN\n",
    "\n",
    "NB: This file is realized exclusively for educational purposes\n",
    "\n",
    "'''\n",
    "\n",
    "import os\n",
    "from scipy.io import loadmat\n",
    "import pylab\n",
    "import numpy as np\n",
    "class Struct(object): pass\n",
    "import pylab\n",
    "\n",
    "np.random.seed(7)\n",
    "\n",
    "# Mean Squared Error\n",
    "def MSE(X,Y):\n",
    "    return  np.mean((X-Y)**2)"
   ]
  },
  {
   "cell_type": "code",
   "execution_count": null,
   "metadata": {},
   "outputs": [],
   "source": [
    "# load dataset\n",
    "path = '.'\n",
    "\n",
    "data = loadmat(os.path.join(path, 'MG.mat')) # load dataset\n",
    "\n",
    "class Struct(object): pass\n",
    "dataset = Struct()\n",
    "dataset.name = data['dataset'][0][0][0][0]\n",
    "dataset.inputs = data['dataset'][0][0][1][0]\n",
    "dataset.targets = data['dataset'][0][0][2][0]\n",
    "\n",
    "# input dimension\n",
    "Ninputs = dataset.inputs[0].shape[0]  \n",
    "\n",
    "# select the model that achieves the maximum accuracy on validation set\n",
    "optimization_problem = np.argmin   \n",
    "\n",
    "\n",
    "TR_indexes = range(4000) # indexes for training, validation and test set in Piano-midi.de task\n",
    "VL_indexes = range(4000,5000)\n",
    "TS_indexes = range(5000,9999)\n",
    "\n",
    "inputs = dataset.inputs[0]\n",
    "targets = dataset.targets[0]\n",
    "Noutputs = inputs.shape[0]\n",
    "Full_TR_indexes = list(TR_indexes) + list(VL_indexes)\n",
    "\n",
    "transient=100"
   ]
  },
  {
   "cell_type": "code",
   "execution_count": null,
   "metadata": {},
   "outputs": [],
   "source": [
    "pylab.plot(range(inputs[:,0:100].shape[1]),inputs[:,0:100][0]);\n",
    "pylab.plot(range(targets[:,0:100].shape[1]),targets[:,0:100][0]);"
   ]
  },
  {
   "cell_type": "code",
   "execution_count": 2,
   "metadata": {
    "collapsed": true
   },
   "outputs": [],
   "source": [
    "# add bias\n",
    "inputs = np.concatenate([inputs, np.ones((1,inputs.shape[1]))])"
   ]
  },
  {
   "cell_type": "code",
   "execution_count": 3,
   "metadata": {},
   "outputs": [
    {
     "data": {
      "text/plain": [
       "((2, 9999), (1, 9999))"
      ]
     },
     "execution_count": 3,
     "metadata": {},
     "output_type": "execute_result"
    }
   ],
   "source": [
    "inputs.shape, targets.shape"
   ]
  },
  {
   "cell_type": "markdown",
   "metadata": {},
   "source": [
    "**Step 1)** <br>\n",
    "hyper-parametrization = [rho, inputs_scale, Nr]\n",
    "\n",
    "For hyper-parametrization in hiper-parameters: <br>\n",
    "    &nbsp;&nbsp;&nbsp;&nbsp;&nbsp;&nbsp; train model on TR_indexes <br>\n",
    "    &nbsp;&nbsp;&nbsp;&nbsp;&nbsp;&nbsp; evaluate model on VL_indexes (save validation error and hyper-parametrization) <br>\n",
    " \n",
    "**Step 2)** <br>\n",
    "create model (hyper-parametrization with minimum validation error) <br>\n",
    "re-train model on Full-TR_indexes <br>\n",
    "test model on TS_indexes <br>\n",
    "<br>\n",
    "plot learning curve <br>\n",
    "plot Output VS Target on TS_indexes <br>\n"
   ]
  },
  {
   "cell_type": "code",
   "execution_count": 4,
   "metadata": {
    "collapsed": true
   },
   "outputs": [],
   "source": [
    "# ESN configuration\n",
    "# rho = ...\n",
    "# input_scale = ...\n",
    "# Nr = ..."
   ]
  },
  {
   "cell_type": "markdown",
   "metadata": {},
   "source": [
    "ESN Initialization <br>\n",
    "init $\\mathbf{W}_{in}$ from $[-input\\_scale,input\\_scale]$ <br>\n",
    "init $\\mathbf{\\hat{W}}$ from $[-1,1]$ <br>\n",
    "$\\mathbf{\\hat{W}} = \\frac{\\mathbf{\\hat{W}}}{\\rho(\\mathbf{\\hat{W}})} rho$"
   ]
  },
  {
   "cell_type": "code",
   "execution_count": null,
   "metadata": {
    "collapsed": true
   },
   "outputs": [],
   "source": []
  },
  {
   "cell_type": "markdown",
   "metadata": {},
   "source": [
    "State Computation <br>\n",
    "$\\mathbf{x}(0) = \\mathbf{0}$ <br>\n",
    "$\\mathbf{x}(t) = \\mathbf{tanh}(\\mathbf{\\hat{W}}\\mathbf{x}(t-1) + \\mathbf{W}_{in} \\mathbf{u}(t)) , t>0$"
   ]
  },
  {
   "cell_type": "code",
   "execution_count": null,
   "metadata": {
    "collapsed": true
   },
   "outputs": [],
   "source": []
  },
  {
   "cell_type": "markdown",
   "metadata": {},
   "source": [
    "$\\mathbf{X} = \\texttt{add_bias}(\\mathbf{X})$"
   ]
  },
  {
   "cell_type": "code",
   "execution_count": null,
   "metadata": {
    "collapsed": true
   },
   "outputs": [],
   "source": []
  },
  {
   "cell_type": "markdown",
   "metadata": {},
   "source": [
    "Readout Training <br>\n",
    "$\\mathbf{W}_{out} = \\mathbf{Y}_{target} \\mathbf{X}^+$"
   ]
  },
  {
   "cell_type": "code",
   "execution_count": null,
   "metadata": {
    "collapsed": true
   },
   "outputs": [],
   "source": []
  },
  {
   "cell_type": "markdown",
   "metadata": {},
   "source": [
    "Compute Output <br>\n",
    "$\\mathbf{Y} = \\mathbf{W} \\mathbf{X}$ <br>\n",
    "$MSE(\\mathbf{Y},\\mathbf{Y}_{target})$"
   ]
  },
  {
   "cell_type": "code",
   "execution_count": null,
   "metadata": {
    "collapsed": true
   },
   "outputs": [],
   "source": []
  },
  {
   "cell_type": "code",
   "execution_count": null,
   "metadata": {
    "collapsed": true
   },
   "outputs": [],
   "source": [
    "# plot Outputs VS Targets\n",
    "pylab.plot(targets[0,TS_indexes[0:100]])\n",
    "pylab.plot(outputs[0,TS_indexes[0:100]])"
   ]
  }
 ],
 "metadata": {
  "kernelspec": {
   "display_name": "Python 3",
   "language": "python",
   "name": "python3"
  },
  "language_info": {
   "codemirror_mode": {
    "name": "ipython",
    "version": 3
   },
   "file_extension": ".py",
   "mimetype": "text/x-python",
   "name": "python",
   "nbconvert_exporter": "python",
   "pygments_lexer": "ipython3",
   "version": "3.6.8"
  },
  "varInspector": {
   "cols": {
    "lenName": 16,
    "lenType": 16,
    "lenVar": 40
   },
   "kernels_config": {
    "python": {
     "delete_cmd_postfix": "",
     "delete_cmd_prefix": "del ",
     "library": "var_list.py",
     "varRefreshCmd": "print(var_dic_list())"
    },
    "r": {
     "delete_cmd_postfix": ") ",
     "delete_cmd_prefix": "rm(",
     "library": "var_list.r",
     "varRefreshCmd": "cat(var_dic_list()) "
    }
   },
   "types_to_exclude": [
    "module",
    "function",
    "builtin_function_or_method",
    "instance",
    "_Feature"
   ],
   "window_display": false
  }
 },
 "nbformat": 4,
 "nbformat_minor": 2
}
