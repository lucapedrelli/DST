{
 "cells": [
  {
   "cell_type": "code",
   "execution_count": 1,
   "metadata": {},
   "outputs": [
    {
     "name": "stderr",
     "output_type": "stream",
     "text": [
      "/Users/Pedro/anaconda3/envs/deeplearning/lib/python3.6/site-packages/h5py/__init__.py:36: FutureWarning: Conversion of the second argument of issubdtype from `float` to `np.floating` is deprecated. In future, it will be treated as `np.float64 == np.dtype(float).type`.\n",
      "  from ._conv import register_converters as _register_converters\n",
      "Using TensorFlow backend.\n"
     ]
    }
   ],
   "source": [
    "'''\n",
    "\n",
    "Author: Luca Pedrelli\n",
    "l.pedrelli@deeplearningitalia.com\n",
    "lucapedrelli@gmail.com\n",
    "\n",
    "Exercitation: A possible implementation of an RNN from scratch\n",
    "\n",
    "NB: This file is realized exclusively for educational purposes\n",
    "\n",
    "'''\n",
    "\n",
    "import os\n",
    "from scipy.io import loadmat\n",
    "import pylab\n",
    "os.environ[\"CUDA_VISIBLE_DEVICES\"]=\"-1\"\n",
    "import numpy as np\n",
    "import keras\n",
    "from keras.layers import Dense, SimpleRNN, GRU, LSTM\n",
    "from keras.models import Input, Model\n",
    "from keras.layers import TimeDistributed\n",
    "from keras.optimizers import SGD, Adam\n",
    " \n",
    "np.random.seed(7)\n",
    "\n",
    "# Mean Squared Error\n",
    "def MSE(X,Y):\n",
    "    return  np.mean((X-Y)**2)\n",
    "\n"
   ]
  },
  {
   "cell_type": "code",
   "execution_count": null,
   "metadata": {},
   "outputs": [],
   "source": [
    "# load dataset\n",
    "path = '.'\n",
    "\n",
    "data = loadmat(os.path.join(path, '../MG.mat')) # load dataset\n",
    "\n",
    "class Struct(object): pass\n",
    "dataset = Struct()\n",
    "dataset.name = data['dataset'][0][0][0][0]\n",
    "dataset.inputs = data['dataset'][0][0][1][0]\n",
    "dataset.targets = data['dataset'][0][0][2][0]\n",
    "\n",
    "# input dimension\n",
    "Ninputs = dataset.inputs[0].shape[0]  \n",
    "\n",
    "# select the model that achieves the maximum accuracy on validation set\n",
    "optimization_problem = np.argmin   \n",
    "\n",
    "\n",
    "TR_indexes = range(400) # indexes for training, validation and test set in Piano-midi.de task\n",
    "VL_indexes = range(400,500)\n",
    "TS_indexes = range(500,999)\n",
    "\n",
    "inputs = dataset.inputs[0]\n",
    "targets = dataset.targets[0]\n",
    "Noutputs = inputs.shape[0]\n",
    "Full_TR_indexes = list(TR_indexes) + list(VL_indexes)\n"
   ]
  },
  {
   "cell_type": "markdown",
   "metadata": {},
   "source": [
    "Regression Task\n",
    "\n",
    "The Mackey-Glass (MG) task is a standard benchmark for chaotic time-series next-step prediction. The input sequence is obtained by a discretization of the following equation:\n",
    "$\\frac{\\partial u(t)}{\\partial t} = \\frac{0.2 u(t-17)}{1 + u(t - 17)} - 0.1 u(t).$"
   ]
  },
  {
   "cell_type": "code",
   "execution_count": null,
   "metadata": {},
   "outputs": [],
   "source": [
    "inputs.shape, targets.shape, Ninputs, Noutputs"
   ]
  },
  {
   "cell_type": "code",
   "execution_count": null,
   "metadata": {},
   "outputs": [],
   "source": [
    "# plot 1000 time-steps\n",
    "pylab.plot(inputs[:,0:1000].T);"
   ]
  },
  {
   "cell_type": "code",
   "execution_count": null,
   "metadata": {},
   "outputs": [],
   "source": [
    "# Create network: initialize weights from [-1,1]\n",
    "NR = 100\n",
    "Win = np.random.uniform(-0.1,0.1, (NR, Ninputs+1))\n",
    "W = np.random.uniform(-0.1,0.1, (NR, NR))\n",
    "Wout = np.random.uniform(-0.1,0.1, (Noutputs, NR+1))"
   ]
  },
  {
   "cell_type": "code",
   "execution_count": null,
   "metadata": {},
   "outputs": [],
   "source": [
    "inputs.shape"
   ]
  },
  {
   "cell_type": "code",
   "execution_count": null,
   "metadata": {},
   "outputs": [],
   "source": [
    "# Compute states\n",
    "def forward_pass(Win,W, inputs):\n",
    "    otuputs = []\n",
    "    \n",
    "    X = np.zeros((NR,inputs.shape[1]+1))\n",
    "    for t in range(1,X.shape[1]):\n",
    "        # State Equation\n",
    "\n",
    "    return X"
   ]
  },
  {
   "cell_type": "code",
   "execution_count": null,
   "metadata": {},
   "outputs": [],
   "source": [
    "def compute_outputs(Wout, X):\n",
    "    # Output Equation\n",
    "    \n",
    "    return"
   ]
  },
  {
   "cell_type": "code",
   "execution_count": null,
   "metadata": {},
   "outputs": [],
   "source": [
    "# Compute a gradient descent pass on a sample input\n",
    "def backward_pass(Win,W,Wout, u, d):\n",
    "\n",
    "    T = u.shape[1]\n",
    "    x = forward_pass(Win,W, u)\n",
    "    y = compute_outputs(Wout,x)\n",
    "    \n",
    "    dWout = []\n",
    "    dW = []\n",
    "    dWin = []\n",
    "    deltas = [np.zeros((NR))]*T\n",
    "\n",
    "    #for t in reversed(range(T)):\n",
    "        #print('step: ',t)\n",
    "\n",
    "        # compute_delta\n",
    "        # dWout.append(compute_gradient)\n",
    "        \n",
    "        #i_truncate = 0\n",
    "        #for t2 in reversed(range(t+1)):\n",
    "            #print('backstep: ', t2)\n",
    "            #if t2 == t:\n",
    "                #deltas[t2] = # compute delta\n",
    "            #else:\n",
    "                #deltas[t2] = # compute delta\n",
    "                \n",
    "            #dW.append(compute_gradient)\n",
    "            #dWin.append(compute_gradient)    \n",
    "            \n",
    "            #i_truncate = i_truncate+1\n",
    "            \n",
    "            #if i_truncate == 100:\n",
    "                #break\n",
    "    \n",
    "    return dWout, dW, dWin\n"
   ]
  },
  {
   "cell_type": "code",
   "execution_count": null,
   "metadata": {},
   "outputs": [],
   "source": [
    "inputs.shape"
   ]
  },
  {
   "cell_type": "code",
   "execution_count": null,
   "metadata": {},
   "outputs": [],
   "source": [
    "# leraning rate\n",
    "lr = 0.00001\n",
    "epochs = 10\n",
    "errors = []\n",
    "\n",
    "for epoch in range(epochs):\n",
    "    print('epoch: ', epoch)\n",
    "\n",
    "    dWout, dW, dWin = backward_pass(Win,W,Wout, inputs[:,Full_TR_indexes], targets[:,Full_TR_indexes])\n",
    "    Wout = Wout + lr*sum(dWout)\n",
    "    W = W + lr*sum(dW)\n",
    "    Win = Win + lr*sum(dWin)\n",
    "\n",
    "    x = forward_pass(Win,W, inputs)\n",
    "    outputs = compute_outputs(Wout,x)        \n",
    "    errors.append(MSE(outputs[:, Full_TR_indexes], targets[:, Full_TR_indexes]))\n",
    "    "
   ]
  },
  {
   "cell_type": "code",
   "execution_count": null,
   "metadata": {},
   "outputs": [],
   "source": [
    "# Plot Learning Curve\n",
    "pylab.plot(range(len(errors)),errors)"
   ]
  },
  {
   "cell_type": "code",
   "execution_count": null,
   "metadata": {},
   "outputs": [],
   "source": []
  }
 ],
 "metadata": {
  "kernelspec": {
   "display_name": "Python 3",
   "language": "python",
   "name": "python3"
  },
  "language_info": {
   "codemirror_mode": {
    "name": "ipython",
    "version": 3
   },
   "file_extension": ".py",
   "mimetype": "text/x-python",
   "name": "python",
   "nbconvert_exporter": "python",
   "pygments_lexer": "ipython3",
   "version": "3.6.8"
  },
  "varInspector": {
   "cols": {
    "lenName": 16,
    "lenType": 16,
    "lenVar": 40
   },
   "kernels_config": {
    "python": {
     "delete_cmd_postfix": "",
     "delete_cmd_prefix": "del ",
     "library": "var_list.py",
     "varRefreshCmd": "print(var_dic_list())"
    },
    "r": {
     "delete_cmd_postfix": ") ",
     "delete_cmd_prefix": "rm(",
     "library": "var_list.r",
     "varRefreshCmd": "cat(var_dic_list()) "
    }
   },
   "types_to_exclude": [
    "module",
    "function",
    "builtin_function_or_method",
    "instance",
    "_Feature"
   ],
   "window_display": false
  }
 },
 "nbformat": 4,
 "nbformat_minor": 2
}
